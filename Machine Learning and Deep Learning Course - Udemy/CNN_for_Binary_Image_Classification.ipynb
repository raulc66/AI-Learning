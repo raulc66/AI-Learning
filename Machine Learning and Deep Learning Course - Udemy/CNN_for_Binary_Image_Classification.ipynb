{
  "nbformat": 4,
  "nbformat_minor": 0,
  "metadata": {
    "colab": {
      "provenance": [],
      "toc_visible": true,
      "gpuType": "T4",
      "authorship_tag": "ABX9TyPoYfJcuJmaaYKXMR6JlocR",
      "include_colab_link": true
    },
    "kernelspec": {
      "name": "python3",
      "display_name": "Python 3"
    },
    "language_info": {
      "name": "python"
    },
    "accelerator": "GPU"
  },
  "cells": [
    {
      "cell_type": "markdown",
      "metadata": {
        "id": "view-in-github",
        "colab_type": "text"
      },
      "source": [
        "<a href=\"https://colab.research.google.com/github/raulc66/AI-Learning/blob/main/CNN_for_Binary_Image_Classification.ipynb\" target=\"_parent\"><img src=\"https://colab.research.google.com/assets/colab-badge.svg\" alt=\"Open In Colab\"/></a>"
      ]
    },
    {
      "cell_type": "markdown",
      "source": [
        "# Step 1 : Importing the libraries"
      ],
      "metadata": {
        "id": "d6NbDTIjuyYY"
      }
    },
    {
      "cell_type": "code",
      "source": [
        "import tensorflow as tf\n",
        "print(tf.__version__)"
      ],
      "metadata": {
        "colab": {
          "base_uri": "https://localhost:8080/"
        },
        "id": "fOCqf5_Vu3eT",
        "outputId": "c6f0806b-8300-4b13-94e0-f5ac8be6eff4"
      },
      "execution_count": 1,
      "outputs": [
        {
          "output_type": "stream",
          "name": "stdout",
          "text": [
            "2.18.0\n"
          ]
        }
      ]
    },
    {
      "cell_type": "code",
      "source": [
        "import numpy as np\n",
        "import pandas as pd\n",
        "import matplotlib.pyplot as plt"
      ],
      "metadata": {
        "id": "8-Gizr6Wu8RV"
      },
      "execution_count": 2,
      "outputs": []
    },
    {
      "cell_type": "markdown",
      "source": [
        "# Step 2 : Importing the dataset"
      ],
      "metadata": {
        "id": "whQmPRFrvHug"
      }
    },
    {
      "cell_type": "code",
      "source": [
        "# Installing the Kaggle API\n",
        "! pip install -q kaggle"
      ],
      "metadata": {
        "id": "9T2a9JjEvKTr"
      },
      "execution_count": 3,
      "outputs": []
    },
    {
      "cell_type": "code",
      "source": [
        "# create a directory as Kaggle\n",
        "! mkdir -p ~/.kaggle"
      ],
      "metadata": {
        "id": "DQP7OXK6vhZV"
      },
      "execution_count": 4,
      "outputs": []
    },
    {
      "cell_type": "code",
      "source": [
        "# Import API key to google colab\n",
        "from google.colab import files\n",
        "uploaded = files.upload()"
      ],
      "metadata": {
        "colab": {
          "base_uri": "https://localhost:8080/",
          "height": 73
        },
        "id": "QXj4iZTPvtC0",
        "outputId": "3b99f009-37ff-4097-d460-462e763044af"
      },
      "execution_count": 5,
      "outputs": [
        {
          "output_type": "display_data",
          "data": {
            "text/plain": [
              "<IPython.core.display.HTML object>"
            ],
            "text/html": [
              "\n",
              "     <input type=\"file\" id=\"files-e4bf88d6-f1ab-4867-bc80-d25ea4fbc3d9\" name=\"files[]\" multiple disabled\n",
              "        style=\"border:none\" />\n",
              "     <output id=\"result-e4bf88d6-f1ab-4867-bc80-d25ea4fbc3d9\">\n",
              "      Upload widget is only available when the cell has been executed in the\n",
              "      current browser session. Please rerun this cell to enable.\n",
              "      </output>\n",
              "      <script>// Copyright 2017 Google LLC\n",
              "//\n",
              "// Licensed under the Apache License, Version 2.0 (the \"License\");\n",
              "// you may not use this file except in compliance with the License.\n",
              "// You may obtain a copy of the License at\n",
              "//\n",
              "//      http://www.apache.org/licenses/LICENSE-2.0\n",
              "//\n",
              "// Unless required by applicable law or agreed to in writing, software\n",
              "// distributed under the License is distributed on an \"AS IS\" BASIS,\n",
              "// WITHOUT WARRANTIES OR CONDITIONS OF ANY KIND, either express or implied.\n",
              "// See the License for the specific language governing permissions and\n",
              "// limitations under the License.\n",
              "\n",
              "/**\n",
              " * @fileoverview Helpers for google.colab Python module.\n",
              " */\n",
              "(function(scope) {\n",
              "function span(text, styleAttributes = {}) {\n",
              "  const element = document.createElement('span');\n",
              "  element.textContent = text;\n",
              "  for (const key of Object.keys(styleAttributes)) {\n",
              "    element.style[key] = styleAttributes[key];\n",
              "  }\n",
              "  return element;\n",
              "}\n",
              "\n",
              "// Max number of bytes which will be uploaded at a time.\n",
              "const MAX_PAYLOAD_SIZE = 100 * 1024;\n",
              "\n",
              "function _uploadFiles(inputId, outputId) {\n",
              "  const steps = uploadFilesStep(inputId, outputId);\n",
              "  const outputElement = document.getElementById(outputId);\n",
              "  // Cache steps on the outputElement to make it available for the next call\n",
              "  // to uploadFilesContinue from Python.\n",
              "  outputElement.steps = steps;\n",
              "\n",
              "  return _uploadFilesContinue(outputId);\n",
              "}\n",
              "\n",
              "// This is roughly an async generator (not supported in the browser yet),\n",
              "// where there are multiple asynchronous steps and the Python side is going\n",
              "// to poll for completion of each step.\n",
              "// This uses a Promise to block the python side on completion of each step,\n",
              "// then passes the result of the previous step as the input to the next step.\n",
              "function _uploadFilesContinue(outputId) {\n",
              "  const outputElement = document.getElementById(outputId);\n",
              "  const steps = outputElement.steps;\n",
              "\n",
              "  const next = steps.next(outputElement.lastPromiseValue);\n",
              "  return Promise.resolve(next.value.promise).then((value) => {\n",
              "    // Cache the last promise value to make it available to the next\n",
              "    // step of the generator.\n",
              "    outputElement.lastPromiseValue = value;\n",
              "    return next.value.response;\n",
              "  });\n",
              "}\n",
              "\n",
              "/**\n",
              " * Generator function which is called between each async step of the upload\n",
              " * process.\n",
              " * @param {string} inputId Element ID of the input file picker element.\n",
              " * @param {string} outputId Element ID of the output display.\n",
              " * @return {!Iterable<!Object>} Iterable of next steps.\n",
              " */\n",
              "function* uploadFilesStep(inputId, outputId) {\n",
              "  const inputElement = document.getElementById(inputId);\n",
              "  inputElement.disabled = false;\n",
              "\n",
              "  const outputElement = document.getElementById(outputId);\n",
              "  outputElement.innerHTML = '';\n",
              "\n",
              "  const pickedPromise = new Promise((resolve) => {\n",
              "    inputElement.addEventListener('change', (e) => {\n",
              "      resolve(e.target.files);\n",
              "    });\n",
              "  });\n",
              "\n",
              "  const cancel = document.createElement('button');\n",
              "  inputElement.parentElement.appendChild(cancel);\n",
              "  cancel.textContent = 'Cancel upload';\n",
              "  const cancelPromise = new Promise((resolve) => {\n",
              "    cancel.onclick = () => {\n",
              "      resolve(null);\n",
              "    };\n",
              "  });\n",
              "\n",
              "  // Wait for the user to pick the files.\n",
              "  const files = yield {\n",
              "    promise: Promise.race([pickedPromise, cancelPromise]),\n",
              "    response: {\n",
              "      action: 'starting',\n",
              "    }\n",
              "  };\n",
              "\n",
              "  cancel.remove();\n",
              "\n",
              "  // Disable the input element since further picks are not allowed.\n",
              "  inputElement.disabled = true;\n",
              "\n",
              "  if (!files) {\n",
              "    return {\n",
              "      response: {\n",
              "        action: 'complete',\n",
              "      }\n",
              "    };\n",
              "  }\n",
              "\n",
              "  for (const file of files) {\n",
              "    const li = document.createElement('li');\n",
              "    li.append(span(file.name, {fontWeight: 'bold'}));\n",
              "    li.append(span(\n",
              "        `(${file.type || 'n/a'}) - ${file.size} bytes, ` +\n",
              "        `last modified: ${\n",
              "            file.lastModifiedDate ? file.lastModifiedDate.toLocaleDateString() :\n",
              "                                    'n/a'} - `));\n",
              "    const percent = span('0% done');\n",
              "    li.appendChild(percent);\n",
              "\n",
              "    outputElement.appendChild(li);\n",
              "\n",
              "    const fileDataPromise = new Promise((resolve) => {\n",
              "      const reader = new FileReader();\n",
              "      reader.onload = (e) => {\n",
              "        resolve(e.target.result);\n",
              "      };\n",
              "      reader.readAsArrayBuffer(file);\n",
              "    });\n",
              "    // Wait for the data to be ready.\n",
              "    let fileData = yield {\n",
              "      promise: fileDataPromise,\n",
              "      response: {\n",
              "        action: 'continue',\n",
              "      }\n",
              "    };\n",
              "\n",
              "    // Use a chunked sending to avoid message size limits. See b/62115660.\n",
              "    let position = 0;\n",
              "    do {\n",
              "      const length = Math.min(fileData.byteLength - position, MAX_PAYLOAD_SIZE);\n",
              "      const chunk = new Uint8Array(fileData, position, length);\n",
              "      position += length;\n",
              "\n",
              "      const base64 = btoa(String.fromCharCode.apply(null, chunk));\n",
              "      yield {\n",
              "        response: {\n",
              "          action: 'append',\n",
              "          file: file.name,\n",
              "          data: base64,\n",
              "        },\n",
              "      };\n",
              "\n",
              "      let percentDone = fileData.byteLength === 0 ?\n",
              "          100 :\n",
              "          Math.round((position / fileData.byteLength) * 100);\n",
              "      percent.textContent = `${percentDone}% done`;\n",
              "\n",
              "    } while (position < fileData.byteLength);\n",
              "  }\n",
              "\n",
              "  // All done.\n",
              "  yield {\n",
              "    response: {\n",
              "      action: 'complete',\n",
              "    }\n",
              "  };\n",
              "}\n",
              "\n",
              "scope.google = scope.google || {};\n",
              "scope.google.colab = scope.google.colab || {};\n",
              "scope.google.colab._files = {\n",
              "  _uploadFiles,\n",
              "  _uploadFilesContinue,\n",
              "};\n",
              "})(self);\n",
              "</script> "
            ]
          },
          "metadata": {}
        },
        {
          "output_type": "stream",
          "name": "stdout",
          "text": [
            "Saving kaggle.json to kaggle.json\n"
          ]
        }
      ]
    },
    {
      "cell_type": "code",
      "source": [
        "# copy API key to Kaggle directory\n",
        "! cp kaggle.json ~/.kaggle/"
      ],
      "metadata": {
        "id": "A219CqD8v5rk"
      },
      "execution_count": 6,
      "outputs": []
    },
    {
      "cell_type": "code",
      "source": [
        "# disable API key\n",
        "! chmod 600 /root/.kaggle/kaggle.json"
      ],
      "metadata": {
        "id": "QDxREN-8wNtV"
      },
      "execution_count": 7,
      "outputs": []
    },
    {
      "cell_type": "code",
      "source": [
        "# list of downloadable datasets\n",
        "! kaggle datasets list"
      ],
      "metadata": {
        "colab": {
          "base_uri": "https://localhost:8080/"
        },
        "id": "oiW64ebLwZd8",
        "outputId": "af519e15-f748-495d-a166-02e164e997f8"
      },
      "execution_count": 8,
      "outputs": [
        {
          "output_type": "stream",
          "name": "stdout",
          "text": [
            "ref                                                       title                                          size  lastUpdated          downloadCount  voteCount  usabilityRating  \n",
            "--------------------------------------------------------  --------------------------------------------  -----  -------------------  -------------  ---------  ---------------  \n",
            "asinow/car-price-dataset                                  Car Price Dataset                             135KB  2025-01-26 19:53:28          18839        305  1.0              \n",
            "asinow/diabetes-dataset                                   Diabetes Dataset                              224KB  2025-02-20 08:38:56           1187         27  1.0              \n",
            "mahmoudelhemaly/students-grading-dataset                  Student Performance & Behavior Dataset        508KB  2025-02-17 17:38:46           2588         45  1.0              \n",
            "adilshamim8/student-performance-and-learning-style        Student Performance & Learning Style          148KB  2025-02-12 06:12:07           1299         25  1.0              \n",
            "abdulmalik1518/mobiles-dataset-2025                       Mobiles Dataset (2025)                         20KB  2025-02-18 06:50:24           3004         56  1.0              \n",
            "vinothkannaece/sales-dataset                              sales dataset                                  27KB  2025-02-18 05:13:42           3247         54  1.0              \n",
            "feeldidaxie/king-county-house-sales-usa                   King County House Sales (USA)                 757KB  2025-02-23 09:22:24            872         22  1.0              \n",
            "anandshaw2001/top-spotify-songs-in-73-countries           Top Spotify Songs in 73 Countries             132MB  2025-02-18 17:18:42            808         26  1.0              \n",
            "samayashar/fraud-detection-transactions-dataset           Fraud Detection Transactions Dataset            2MB  2025-02-21 18:06:23           1276         25  1.0              \n",
            "ak0212/indian-bike-sales-dataset                          Indian Bike Sales Dataset                     266KB  2025-02-21 12:20:27           1160         25  1.0              \n",
            "ankushpanday2/heart-attack-prediction-in-united-states    Heart Attack Prediction in United States       12MB  2025-02-20 16:14:03           1037         27  1.0              \n",
            "adilshamim8/education-and-career-success                  Education & Career Success.                   118KB  2025-02-03 05:24:20           5004         74  1.0              \n",
            "himelsarder/coffee-shop-daily-revenue-prediction-dataset  Coffee Shop Daily Revenue Prediction Dataset   30KB  2025-02-07 07:29:16           1733         24  1.0              \n",
            "adilshamim8/sleep-cycle-and-productivity                  Sleep Cycle & Productivity                    155KB  2025-02-07 05:44:59           3054         46  1.0              \n",
            "samikshadalvi/100-most-watched-anime-in-the-world         100 Most Watched Anime in the World             2KB  2025-02-16 17:38:26            725         24  1.0              \n",
            "anandshaw2001/netflix-movies-and-tv-shows                 Netflix Movies and TV Shows                     1MB  2025-01-03 10:33:01          22401        535  1.0              \n",
            "mhassansaboor/uber-stocks-dataset-2025                    Uber Stocks Dataset 2025                       28KB  2025-02-06 11:24:01            824         26  1.0              \n",
            "asinow/laptop-price-dataset                               Laptop Price Dataset                          181KB  2025-02-01 04:20:16           4380         83  1.0              \n",
            "adilshamim8/daily-food-and-nutrition-dataset              Daily Food & Nutrition Dataset                249KB  2025-02-05 06:25:32           1397         25  1.0              \n",
            "adilshamim8/startup-growth-and-investment-data            Startup Growth & Investment Data              141KB  2025-02-02 07:27:03           1717         29  1.0              \n"
          ]
        }
      ]
    },
    {
      "cell_type": "code",
      "source": [
        "# importing the dataset\n",
        "! kaggle datasets download -d tongpython/cat-and-dog"
      ],
      "metadata": {
        "colab": {
          "base_uri": "https://localhost:8080/"
        },
        "id": "sFmApdiDwegk",
        "outputId": "256cd034-ace3-49e8-be18-2d98256974a0"
      },
      "execution_count": 9,
      "outputs": [
        {
          "output_type": "stream",
          "name": "stdout",
          "text": [
            "Dataset URL: https://www.kaggle.com/datasets/tongpython/cat-and-dog\n",
            "License(s): CC0-1.0\n",
            "Downloading cat-and-dog.zip to /content\n",
            " 93% 203M/218M [00:00<00:00, 264MB/s]\n",
            "100% 218M/218M [00:00<00:00, 251MB/s]\n"
          ]
        }
      ]
    },
    {
      "cell_type": "code",
      "source": [
        "# unzipping the dataset\n",
        "!unzip -q /content/cat-and-dog.zip"
      ],
      "metadata": {
        "id": "55sHX-otxc8d"
      },
      "execution_count": 10,
      "outputs": []
    },
    {
      "cell_type": "markdown",
      "source": [
        "# Step 2 : Building the Model\n"
      ],
      "metadata": {
        "id": "H2CcpFGcySXS"
      }
    },
    {
      "cell_type": "code",
      "source": [
        "# Creating an object (Initializing CNN)\n",
        "model=tf.keras.models.Sequential()"
      ],
      "metadata": {
        "id": "7SfYkImfyVtk"
      },
      "execution_count": 12,
      "outputs": []
    },
    {
      "cell_type": "code",
      "source": [
        "# Adding first CNN layer (input layer)\n",
        "# 1) filters = 64\n",
        "# 2) kernel size =3\n",
        "# 3) padding = same\n",
        "# 4) activation function = relu\n",
        "# 5) input shape = (32, 32, 3)\n",
        "\n",
        "model.add(tf.keras.layers.Conv2D(filters=64, kernel_size =3, padding = 'same', activation='relu', input_shape = [32, 32, 3])) # reduced size compared to the actual one of the images to improve the processing speed"
      ],
      "metadata": {
        "id": "TFawnvSmyesV"
      },
      "execution_count": 14,
      "outputs": []
    },
    {
      "cell_type": "code",
      "source": [
        "# Adding maxpool layer\n",
        "# 1) pool size = 2 --> size of the pixel that are being selected for pooling (selecting units from a 2X2 array)\n",
        "# 2) strides = 2 --> the units on which the filter is moving\n",
        "# 3) padding = valid\n",
        "\n",
        "model.add(tf.keras.layers.MaxPool2D(pool_size =2, strides = 2, padding='valid'))"
      ],
      "metadata": {
        "id": "_omjjh7VzFqF"
      },
      "execution_count": 15,
      "outputs": []
    },
    {
      "cell_type": "code",
      "source": [
        "# Adding the second CNN layer nad maxpool layer\n",
        "model.add(tf.keras.layers.Conv2D(filters=64, kernel_size =3, padding = 'same', activation='relu')) # reduced size compared to the actual one of the images to improve the processing speed\n",
        "model.add(tf.keras.layers.MaxPool2D(pool_size =2, strides = 2, padding='valid'))"
      ],
      "metadata": {
        "id": "iD_vvhIbz6A-"
      },
      "execution_count": 16,
      "outputs": []
    },
    {
      "cell_type": "code",
      "source": [
        "# Adding the flattening layer\n",
        "model.add(tf.keras.layers.Flatten())"
      ],
      "metadata": {
        "id": "rJYcCtSl0NI8"
      },
      "execution_count": 17,
      "outputs": []
    },
    {
      "cell_type": "code",
      "source": [
        "# Adding the dropout layer\n",
        "model.add(tf.keras.layers.Dropout(0.4))"
      ],
      "metadata": {
        "id": "-zzSwKL60XRd"
      },
      "execution_count": 18,
      "outputs": []
    },
    {
      "cell_type": "code",
      "source": [
        "# Adding fully connected layer\n",
        "model.add(tf.keras.layers.Dense(units = 128, activation = 'relu'))"
      ],
      "metadata": {
        "id": "QkYCeiI20ggU"
      },
      "execution_count": 20,
      "outputs": []
    },
    {
      "cell_type": "code",
      "source": [
        "# Adding the output layer\n",
        "model.add(tf.keras.layers.Dense(units = 1, activation = 'sigmoid')) # for a binary output"
      ],
      "metadata": {
        "id": "8dUaohw100i8"
      },
      "execution_count": 21,
      "outputs": []
    },
    {
      "cell_type": "code",
      "source": [
        "# Compiling the model\n",
        "model.compile(optimizer='adam', loss='binary_crossentropy', metrics=['accuracy']) # loss function will guide the optimizer to find the local minimum"
      ],
      "metadata": {
        "id": "sbqP6jc81F0N"
      },
      "execution_count": 22,
      "outputs": []
    },
    {
      "cell_type": "markdown",
      "source": [
        "#Step 4 : Fitting CNN to images"
      ],
      "metadata": {
        "id": "li46ZdQo4fIN"
      }
    },
    {
      "cell_type": "code",
      "source": [
        "from tensorflow.keras.preprocessing.image import ImageDataGenerator\n"
      ],
      "metadata": {
        "id": "V1hX-HcK1omm"
      },
      "execution_count": 23,
      "outputs": []
    },
    {
      "cell_type": "code",
      "source": [
        "training_data_dir = '/content/training_set/training_set'\n",
        "test_data_dir = '/content/test_set/test_set'"
      ],
      "metadata": {
        "id": "eO17uKL848CW"
      },
      "execution_count": 24,
      "outputs": []
    },
    {
      "cell_type": "code",
      "source": [
        "# rescale the images\n",
        "\n",
        "datagen = ImageDataGenerator(rescale = 1./255)"
      ],
      "metadata": {
        "id": "Zm1YgkQg5QCG"
      },
      "execution_count": 25,
      "outputs": []
    },
    {
      "cell_type": "code",
      "source": [
        "training_set = datagen.flow_from_directory(directory=training_data_dir, target_size = (32, 32), classes = ['dogs', 'cats'], class_mode='binary', batch_size=20)\n",
        "test_set = datagen.flow_from_directory(directory=test_data_dir, target_size = (32, 32), classes = ['dogs', 'cats'], class_mode='binary', batch_size=20)"
      ],
      "metadata": {
        "colab": {
          "base_uri": "https://localhost:8080/"
        },
        "id": "xvuPzQoC5cWO",
        "outputId": "45255676-faaa-47ab-bd0c-193fdc44d938"
      },
      "execution_count": 37,
      "outputs": [
        {
          "output_type": "stream",
          "name": "stdout",
          "text": [
            "Found 8005 images belonging to 2 classes.\n",
            "Found 2023 images belonging to 2 classes.\n"
          ]
        }
      ]
    },
    {
      "cell_type": "code",
      "source": [
        "len(training_set), len(test_set)"
      ],
      "metadata": {
        "colab": {
          "base_uri": "https://localhost:8080/"
        },
        "id": "AQfTsuGT6AWf",
        "outputId": "dbe84f35-d418-4374-e80f-a3614281874c"
      },
      "execution_count": 38,
      "outputs": [
        {
          "output_type": "execute_result",
          "data": {
            "text/plain": [
              "(401, 102)"
            ]
          },
          "metadata": {},
          "execution_count": 38
        }
      ]
    },
    {
      "cell_type": "code",
      "source": [
        "len(training_set) * 20, len(test_set) * 20  # multiplying by the batch size / minor error in the size of the training/ test sets caused by the imprting of the dataset"
      ],
      "metadata": {
        "colab": {
          "base_uri": "https://localhost:8080/"
        },
        "id": "uz_6pulp6KQO",
        "outputId": "faba2b25-347e-49c5-9973-14ba2ba9a9ff"
      },
      "execution_count": 39,
      "outputs": [
        {
          "output_type": "execute_result",
          "data": {
            "text/plain": [
              "(8020, 2040)"
            ]
          },
          "metadata": {},
          "execution_count": 39
        }
      ]
    },
    {
      "cell_type": "code",
      "source": [
        "test_set.batch_size"
      ],
      "metadata": {
        "colab": {
          "base_uri": "https://localhost:8080/"
        },
        "id": "7iRAckdQ6Rt2",
        "outputId": "5f8c3507-c316-4d34-aa2c-1429df4d34e0"
      },
      "execution_count": 40,
      "outputs": [
        {
          "output_type": "execute_result",
          "data": {
            "text/plain": [
              "20"
            ]
          },
          "metadata": {},
          "execution_count": 40
        }
      ]
    },
    {
      "cell_type": "code",
      "source": [
        "history = model.fit(training_set, steps_per_epoch = 401, epochs = 20, validation_data = test_set, validation_steps = 102) # steps_per_epoch = len(training_set), validation_steps = len(test_set)\n",
        "# the model is overfitted --> the model learns too much from the training data (difference between accuracy and val_accuracy), a change in parameters might solve this"
      ],
      "metadata": {
        "colab": {
          "base_uri": "https://localhost:8080/"
        },
        "id": "Gur4mmSD6nj2",
        "outputId": "1ad6dabb-0f3a-422b-89fb-f518218beb59"
      },
      "execution_count": 41,
      "outputs": [
        {
          "output_type": "stream",
          "name": "stdout",
          "text": [
            "Epoch 1/20\n"
          ]
        },
        {
          "output_type": "stream",
          "name": "stderr",
          "text": [
            "/usr/local/lib/python3.11/dist-packages/keras/src/trainers/data_adapters/py_dataset_adapter.py:121: UserWarning: Your `PyDataset` class should call `super().__init__(**kwargs)` in its constructor. `**kwargs` can include `workers`, `use_multiprocessing`, `max_queue_size`. Do not pass these arguments to `fit()`, as they will be ignored.\n",
            "  self._warn_if_super_not_called()\n"
          ]
        },
        {
          "output_type": "stream",
          "name": "stdout",
          "text": [
            "\u001b[1m401/401\u001b[0m \u001b[32m━━━━━━━━━━━━━━━━━━━━\u001b[0m\u001b[37m\u001b[0m \u001b[1m22s\u001b[0m 42ms/step - accuracy: 0.5499 - loss: 0.6866 - val_accuracy: 0.6357 - val_loss: 0.6289\n",
            "Epoch 2/20\n",
            "\u001b[1m401/401\u001b[0m \u001b[32m━━━━━━━━━━━━━━━━━━━━\u001b[0m\u001b[37m\u001b[0m \u001b[1m13s\u001b[0m 33ms/step - accuracy: 0.6564 - loss: 0.6269 - val_accuracy: 0.6001 - val_loss: 0.6392\n",
            "Epoch 3/20\n",
            "\u001b[1m401/401\u001b[0m \u001b[32m━━━━━━━━━━━━━━━━━━━━\u001b[0m\u001b[37m\u001b[0m \u001b[1m21s\u001b[0m 33ms/step - accuracy: 0.6935 - loss: 0.5821 - val_accuracy: 0.7405 - val_loss: 0.5417\n",
            "Epoch 4/20\n",
            "\u001b[1m401/401\u001b[0m \u001b[32m━━━━━━━━━━━━━━━━━━━━\u001b[0m\u001b[37m\u001b[0m \u001b[1m13s\u001b[0m 33ms/step - accuracy: 0.7284 - loss: 0.5333 - val_accuracy: 0.7528 - val_loss: 0.5067\n",
            "Epoch 5/20\n",
            "\u001b[1m401/401\u001b[0m \u001b[32m━━━━━━━━━━━━━━━━━━━━\u001b[0m\u001b[37m\u001b[0m \u001b[1m13s\u001b[0m 33ms/step - accuracy: 0.7623 - loss: 0.4909 - val_accuracy: 0.7627 - val_loss: 0.4982\n",
            "Epoch 6/20\n",
            "\u001b[1m401/401\u001b[0m \u001b[32m━━━━━━━━━━━━━━━━━━━━\u001b[0m\u001b[37m\u001b[0m \u001b[1m13s\u001b[0m 33ms/step - accuracy: 0.7762 - loss: 0.4619 - val_accuracy: 0.7815 - val_loss: 0.4828\n",
            "Epoch 7/20\n",
            "\u001b[1m401/401\u001b[0m \u001b[32m━━━━━━━━━━━━━━━━━━━━\u001b[0m\u001b[37m\u001b[0m \u001b[1m14s\u001b[0m 34ms/step - accuracy: 0.8064 - loss: 0.4101 - val_accuracy: 0.7672 - val_loss: 0.4957\n",
            "Epoch 8/20\n",
            "\u001b[1m401/401\u001b[0m \u001b[32m━━━━━━━━━━━━━━━━━━━━\u001b[0m\u001b[37m\u001b[0m \u001b[1m20s\u001b[0m 34ms/step - accuracy: 0.8172 - loss: 0.3914 - val_accuracy: 0.7845 - val_loss: 0.4752\n",
            "Epoch 9/20\n",
            "\u001b[1m401/401\u001b[0m \u001b[32m━━━━━━━━━━━━━━━━━━━━\u001b[0m\u001b[37m\u001b[0m \u001b[1m13s\u001b[0m 32ms/step - accuracy: 0.8550 - loss: 0.3296 - val_accuracy: 0.7860 - val_loss: 0.4747\n",
            "Epoch 10/20\n",
            "\u001b[1m401/401\u001b[0m \u001b[32m━━━━━━━━━━━━━━━━━━━━\u001b[0m\u001b[37m\u001b[0m \u001b[1m13s\u001b[0m 32ms/step - accuracy: 0.8667 - loss: 0.3148 - val_accuracy: 0.7835 - val_loss: 0.4999\n",
            "Epoch 11/20\n",
            "\u001b[1m401/401\u001b[0m \u001b[32m━━━━━━━━━━━━━━━━━━━━\u001b[0m\u001b[37m\u001b[0m \u001b[1m21s\u001b[0m 32ms/step - accuracy: 0.8885 - loss: 0.2616 - val_accuracy: 0.7756 - val_loss: 0.5639\n",
            "Epoch 12/20\n",
            "\u001b[1m401/401\u001b[0m \u001b[32m━━━━━━━━━━━━━━━━━━━━\u001b[0m\u001b[37m\u001b[0m \u001b[1m13s\u001b[0m 32ms/step - accuracy: 0.9023 - loss: 0.2264 - val_accuracy: 0.7958 - val_loss: 0.5116\n",
            "Epoch 13/20\n",
            "\u001b[1m401/401\u001b[0m \u001b[32m━━━━━━━━━━━━━━━━━━━━\u001b[0m\u001b[37m\u001b[0m \u001b[1m21s\u001b[0m 32ms/step - accuracy: 0.9130 - loss: 0.2100 - val_accuracy: 0.7642 - val_loss: 0.5826\n",
            "Epoch 14/20\n",
            "\u001b[1m401/401\u001b[0m \u001b[32m━━━━━━━━━━━━━━━━━━━━\u001b[0m\u001b[37m\u001b[0m \u001b[1m21s\u001b[0m 33ms/step - accuracy: 0.9373 - loss: 0.1664 - val_accuracy: 0.7860 - val_loss: 0.6180\n",
            "Epoch 15/20\n",
            "\u001b[1m401/401\u001b[0m \u001b[32m━━━━━━━━━━━━━━━━━━━━\u001b[0m\u001b[37m\u001b[0m \u001b[1m20s\u001b[0m 33ms/step - accuracy: 0.9457 - loss: 0.1412 - val_accuracy: 0.7810 - val_loss: 0.6628\n",
            "Epoch 16/20\n",
            "\u001b[1m401/401\u001b[0m \u001b[32m━━━━━━━━━━━━━━━━━━━━\u001b[0m\u001b[37m\u001b[0m \u001b[1m20s\u001b[0m 32ms/step - accuracy: 0.9495 - loss: 0.1314 - val_accuracy: 0.7845 - val_loss: 0.6784\n",
            "Epoch 17/20\n",
            "\u001b[1m401/401\u001b[0m \u001b[32m━━━━━━━━━━━━━━━━━━━━\u001b[0m\u001b[37m\u001b[0m \u001b[1m21s\u001b[0m 33ms/step - accuracy: 0.9605 - loss: 0.1119 - val_accuracy: 0.7820 - val_loss: 0.7026\n",
            "Epoch 18/20\n",
            "\u001b[1m401/401\u001b[0m \u001b[32m━━━━━━━━━━━━━━━━━━━━\u001b[0m\u001b[37m\u001b[0m \u001b[1m20s\u001b[0m 33ms/step - accuracy: 0.9628 - loss: 0.1022 - val_accuracy: 0.7830 - val_loss: 0.7625\n",
            "Epoch 19/20\n",
            "\u001b[1m401/401\u001b[0m \u001b[32m━━━━━━━━━━━━━━━━━━━━\u001b[0m\u001b[37m\u001b[0m \u001b[1m13s\u001b[0m 33ms/step - accuracy: 0.9632 - loss: 0.0992 - val_accuracy: 0.7696 - val_loss: 0.7658\n",
            "Epoch 20/20\n",
            "\u001b[1m401/401\u001b[0m \u001b[32m━━━━━━━━━━━━━━━━━━━━\u001b[0m\u001b[37m\u001b[0m \u001b[1m20s\u001b[0m 33ms/step - accuracy: 0.9702 - loss: 0.0954 - val_accuracy: 0.7855 - val_loss: 0.7415\n"
          ]
        }
      ]
    },
    {
      "cell_type": "markdown",
      "source": [
        "# Step 5 : Plotting the learning curve\n"
      ],
      "metadata": {
        "id": "8mfHUpPU_sxQ"
      }
    },
    {
      "cell_type": "code",
      "source": [
        "def learning_curve(history, epoch):\n",
        "  # training versus validation accuracy\n",
        "  epoch_range = range(1, epoch +1)\n",
        "  plt.plot(epoch_range, history.history['accuracy'])\n",
        "  plt.plot(epoch_range, history.history['val_accuracy'])\n",
        "  plt.title('Model accuracy ')\n",
        "  plt.ylabel('Accuracy')\n",
        "  plt.xlabel('Epoch')\n",
        "  plt.legend(['Train','val'], loc= 'upper left')\n",
        "  plt.show()\n",
        "\n",
        "\n",
        "\n",
        "  # training versus validation loss\n",
        "\n",
        "  plt.plot(epoch_range, history.history['loss'])\n",
        "  plt.plot(epoch_range, history.history['val_loss'])\n",
        "  plt.title('Model loss')\n",
        "  plt.ylabel('Loss')\n",
        "  plt.xlabel('Epoch')\n",
        "  plt.legend(['Train','val'], loc= 'upper left')\n",
        "  plt.show()"
      ],
      "metadata": {
        "id": "8XDDlOa5_xZf"
      },
      "execution_count": 45,
      "outputs": []
    },
    {
      "cell_type": "code",
      "source": [
        "learning_curve(history, 20) # model overfitted after the 5th/11th epoch"
      ],
      "metadata": {
        "colab": {
          "base_uri": "https://localhost:8080/",
          "height": 927
        },
        "id": "x85H0-X2AsC_",
        "outputId": "f52c25f2-1e08-4939-d031-64da6dda6f51"
      },
      "execution_count": 46,
      "outputs": [
        {
          "output_type": "display_data",
          "data": {
            "text/plain": [
              "<Figure size 640x480 with 1 Axes>"
            ],
            "image/png": "[encoded data removed]"
          },
          "metadata": {}
        },
        {
          "output_type": "display_data",
          "data": {
            "text/plain": [
              "<Figure size 640x480 with 1 Axes>"
            ],
            "image/png": "[encoded data removed]"
          },
          "metadata": {}
        }
      ]
    },
    {
      "cell_type": "code",
      "source": [],
      "metadata": {
        "id": "t6y80IY6BTn_"
      },
      "execution_count": null,
      "outputs": []
    }
  ]
}